{
  "nbformat": 4,
  "nbformat_minor": 0,
  "metadata": {
    "colab": {
      "provenance": []
    },
    "kernelspec": {
      "name": "python3",
      "display_name": "Python 3"
    },
    "language_info": {
      "name": "python"
    }
  },
  "cells": [
    {
      "cell_type": "markdown",
      "source": [
        "**Data Augumentations**"
      ],
      "metadata": {
        "id": "Tg58XnCvPRPC"
      }
    },
    {
      "cell_type": "code",
      "execution_count": null,
      "metadata": {
        "id": "b3R0aH40O3FA"
      },
      "outputs": [],
      "source": [
        "import keras\n",
        "import cv2\n",
        "import os\n",
        "import glob\n",
        "from keras.preprocessing.image import ImageDataGenerator, array_to_img, img_to_array, load_img\n",
        "\n",
        "datagen = ImageDataGenerator(rotation_range=10,\n",
        "                             rescale=1./255,\n",
        "                             horizontal_flip=True,\n",
        "                             brightness_range=[0.5, 1.5]\n",
        "                             )\n",
        "\n",
        "img_dir = \"/content/drive/MyDrive/Dataset/jaffedbase/Happy\"\n",
        "output_dir = \"/content/drive/MyDrive/Dataset/jaffedbase/JAFFE-NEW/Happy\"\n",
        "\n",
        "data_path = os.path.join(img_dir, '*.jpg')\n",
        "files = glob.glob(data_path)\n",
        "\n",
        "for f1 in files:\n",
        "    img = cv2.imread(f1)\n",
        "    x = img_to_array(img)\n",
        "    x = x.reshape((1,) + x.shape)\n",
        "\n",
        "    i = 0\n",
        "    file_name = os.path.basename(f1)\n",
        "    file_name_without_extension = os.path.splitext(file_name)[0]\n",
        "    file_count = 4  # Number of augmentations per image\n",
        "\n",
        "    for batch in datagen.flow(x, batch_size=1, save_to_dir=output_dir, save_prefix=file_name_without_extension, save_format='jpg'):\n",
        "        i += 1\n",
        "        if i >= file_count:\n",
        "            break"
      ]
    },
    {
      "cell_type": "markdown",
      "source": [
        "**Image-Rename**"
      ],
      "metadata": {
        "id": "jkeyyGInPYNk"
      }
    },
    {
      "cell_type": "code",
      "source": [
        "import os\n",
        "\n",
        "def rename_images(folder_path):\n",
        "    # Change directory to the specified folder\n",
        "    os.chdir(folder_path)\n",
        "\n",
        "    # Get a list of all files in the folder\n",
        "    files = os.listdir()\n",
        "\n",
        "    # Sort files to maintain order\n",
        "    files.sort()\n",
        "\n",
        "    # Set a counter for renaming\n",
        "    i = 1\n",
        "\n",
        "    # Iterate through each file and rename\n",
        "    for file_name in files:\n",
        "        # Get the file extension\n",
        "        _, file_extension = os.path.splitext(file_name)\n",
        "\n",
        "        # New file name with a sequential number and the original extension\n",
        "        new_name = f\"{i}{file_extension}\"\n",
        "\n",
        "        # Rename the file\n",
        "        os.rename(file_name, new_name)\n",
        "\n",
        "        # Increment the counter\n",
        "        i += 1\n",
        "\n",
        "if __name__ == \"__main__\":\n",
        "    # Specify the path to your image folder\n",
        "    folder_path = \"/content/drive/MyDrive/Dataset/jaffedbase/JAFFE-NEW/Happy\"\n",
        "\n",
        "    # Call the function to rename images\n",
        "    rename_images(folder_path)"
      ],
      "metadata": {
        "id": "OkhQQr8ZPXtA"
      },
      "execution_count": null,
      "outputs": []
    }
  ]
}