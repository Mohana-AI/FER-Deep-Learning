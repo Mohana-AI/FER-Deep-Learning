{
  "nbformat": 4,
  "nbformat_minor": 0,
  "metadata": {
    "colab": {
      "provenance": [],
      "authorship_tag": "ABX9TyO52xMqCjQtOKow/z/KvaWV",
      "include_colab_link": true
    },
    "kernelspec": {
      "name": "python3",
      "display_name": "Python 3"
    },
    "language_info": {
      "name": "python"
    }
  },
  "cells": [
    {
      "cell_type": "markdown",
      "metadata": {
        "id": "view-in-github",
        "colab_type": "text"
      },
      "source": [
        "<a href=\"https://colab.research.google.com/github/mokanapriya/FER-Deep-Learning/blob/main/Face_Detection_using_Viola_Jones.ipynb\" target=\"_parent\"><img src=\"https://colab.research.google.com/assets/colab-badge.svg\" alt=\"Open In Colab\"/></a>"
      ]
    },
    {
      "cell_type": "markdown",
      "source": [
        "**Face Detection and Resizing an Image**"
      ],
      "metadata": {
        "id": "hCvP8H3VInpo"
      }
    },
    {
      "cell_type": "code",
      "execution_count": null,
      "metadata": {
        "id": "0qRbj9M9IdLx"
      },
      "outputs": [],
      "source": [
        "import cv2\n",
        "from google.colab.patches import cv2_imshow\n",
        "import matplotlib.pyplot as plt\n",
        "from google.colab.patches import cv2_imshow\n",
        "import glob\n",
        "\n",
        "c=1\n",
        "for img in glob.glob(\"/content/drive/MyDrive/Autoencoder/Autoencoder-FER-CA/JAFFE/jaffedbase/jaffedbase/JAFFE/angry/*.png\"):\n",
        "  img = cv2.imread(img)\n",
        "  gray = cv2.cvtColor(img, cv2.COLOR_BGR2GRAY)\n",
        "  face_cascade = cv2.CascadeClassifier(cv2.data.haarcascades + \"haarcascade_frontalface_default.xml\")\n",
        "  faces = face_cascade.detectMultiScale(gray,scaleFactor=1.5, minNeighbors=3,minSize=(20, 20))\n",
        "  detected_faces = face_cascade.detectMultiScale(gray)\n",
        "  for (column, row, width, height) in detected_faces:\n",
        "    cv2.rectangle(img,(column, row),(column + width, row + height),(0, 255, 0),0) \n",
        "    faces = img[row:row + height, column:column + width]\n",
        "    h1=48\n",
        "    w1=48\n",
        "  imgResize=cv2.resize(faces,(h1,w1))\n",
        "  cv2_imshow(imgResize)\n",
        "  path = r'/content/drive/MyDrive/Autoencoder/Autoencoder-FER-CA/JAFFE/jaffedbase/jaffedbase/Untitled Folder/'\n",
        "  cv2.imwrite(os.path.join(path,'Neutral-'+str(c)+'.jpg'),imgResize)\n",
        "  c+=1\n",
        "  cv2.waitKey(0)\n",
        "  cv2.destroyAllWindows()"
      ]
    }
  ]
}